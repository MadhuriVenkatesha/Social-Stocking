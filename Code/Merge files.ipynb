{
 "cells": [
  {
   "cell_type": "code",
   "execution_count": 40,
   "metadata": {},
   "outputs": [],
   "source": [
    "import pandas as pd\n",
    "import os\n",
    "import glob"
   ]
  },
  {
   "cell_type": "code",
   "execution_count": 41,
   "metadata": {},
   "outputs": [
    {
     "name": "stdout",
     "output_type": "stream",
     "text": [
      "['msft1.csv', 'msft2.csv']\n"
     ]
    }
   ],
   "source": [
    "#### Mention folder where only csv files are present###\n",
    "path = '/Users/kavyasuresh/DS/Social-Stocking/Data set/MSFT/'\n",
    "path_arr = path.split(\"/\")\n",
    "company = path_arr[len(path_arr)-2]\n",
    "extension = 'csv'\n",
    "os.chdir(path)\n",
    "result = [i for i in glob.glob('*.{}'.format(extension))]\n",
    "print(result)"
   ]
  },
  {
   "cell_type": "code",
   "execution_count": 42,
   "metadata": {},
   "outputs": [
    {
     "name": "stdout",
     "output_type": "stream",
     "text": [
      "msft1.csv\n",
      "msft2.csv\n"
     ]
    }
   ],
   "source": [
    "df = pd.DataFrame()\n",
    "for file in result:\n",
    "    print(file)\n",
    "    df = df.append(pd.read_csv(path+file))\n",
    "df.to_csv(path+company+\"_aggregated.csv\")"
   ]
  },
  {
   "cell_type": "code",
   "execution_count": null,
   "metadata": {},
   "outputs": [],
   "source": []
  }
 ],
 "metadata": {
  "kernelspec": {
   "display_name": "Python 3",
   "language": "python",
   "name": "python3"
  },
  "language_info": {
   "codemirror_mode": {
    "name": "ipython",
    "version": 3
   },
   "file_extension": ".py",
   "mimetype": "text/x-python",
   "name": "python",
   "nbconvert_exporter": "python",
   "pygments_lexer": "ipython3",
   "version": "3.7.0"
  }
 },
 "nbformat": 4,
 "nbformat_minor": 2
}
