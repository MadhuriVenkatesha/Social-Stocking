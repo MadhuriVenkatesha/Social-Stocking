{
 "cells": [
  {
   "cell_type": "code",
   "execution_count": 9,
   "metadata": {},
   "outputs": [],
   "source": [
    "import pandas as pd\n",
    "import csv\n",
    "from emotion_predictor import EmotionPredictor\n",
    "import re\n",
    "import string"
   ]
  },
  {
   "cell_type": "code",
   "execution_count": 10,
   "metadata": {},
   "outputs": [],
   "source": [
    "def strip_amp(text):\n",
    "    text=text.replace(\"&amp;\",\"\")\n",
    "    return text\n",
    "def strip_links(text):\n",
    "    link_regex    = re.compile('((https?):((//)|(\\\\\\\\))+([\\w\\d:#@%/;$()~_?\\+-=\\\\\\.&](#!)?)*)', re.DOTALL)\n",
    "    links         = re.findall(link_regex, text)\n",
    "    for link in links:\n",
    "        text = text.replace(link[0], ', ')    \n",
    "    return text"
   ]
  },
  {
   "cell_type": "code",
   "execution_count": 11,
   "metadata": {},
   "outputs": [],
   "source": [
    "def strip_mentions(text):\n",
    "    entity_prefixes = ['@']\n",
    "    for separator in  string.punctuation:\n",
    "        if separator not in entity_prefixes :\n",
    "            text = text.replace(separator,' ')\n",
    "    words = []\n",
    "    for word in text.split():\n",
    "        word = word.strip()\n",
    "        if word:\n",
    "            if word[0] not in entity_prefixes:\n",
    "                words.append(word)\n",
    "    return ' '.join(words)"
   ]
  },
  {
   "cell_type": "code",
   "execution_count": 12,
   "metadata": {},
   "outputs": [],
   "source": [
    "# Pandas presentation options\n",
    "pd.options.display.max_colwidth = 150   # show whole tweet's content\n",
    "pd.options.display.width = 200          # don't break columns\n",
    "# pd.options.display.max_columns = 7      # maximal number of columns\n",
    "# df = pd.read_csv('sample_tweets.csv')\n",
    "# Predictor for Ekman's emotions in multiclass setting.\n",
    "tweets = []\n",
    "flag = True\n",
    "count = 0\n",
    "c = 0\n",
    "df = pd.read_csv('/Users/kavyasuresh/Downloads/JPMorgan.csv') \n",
    "for i,row in df.iterrows():\n",
    "    count = count+1\n",
    "    t = str(row.tweet)\n",
    "    tweet = strip_links(strip_amp(t))\n",
    "    tweets.append(strip_mentions(tweet))"
   ]
  },
  {
   "cell_type": "code",
   "execution_count": null,
   "metadata": {},
   "outputs": [
    {
     "name": "stdout",
     "output_type": "stream",
     "text": [
      "inside init\n",
      "models/unison-plutchik-mc.h5\n"
     ]
    }
   ],
   "source": [
    "\n",
    "model = EmotionPredictor(classification='plutchik', setting='mc', use_unison_model=True)\n",
    "# tweets = [\n",
    "#     \"Watching the sopranos again from start to finish!\",\n",
    "#     \"Finding out i have to go to the  dentist tomorrow\",\n",
    "#     \"Sun in my eyes but I don't mind, what a beautiful day we've had in New York today!\",\n",
    "#     \"Feels like someone's stabbed me in my hope\",\n",
    "#     \"Do people have no Respect for themselves or you know others peoples homes\",\n",
    "#     \"I want to go outside and chalk but I have no chalk\",\n",
    "#     \"I hate coming to the doctors when I feel as if I might have a big problem\",\n",
    "#     \"My mom wasn't mad\",\n",
    "#     \"You don't indicate once I'm already in the road THEN rev and honk at me you stupid bitch #learnhowtodrive #bitch\",\n",
    "#     \"Come home from work and this is on my doorstep. I guess he has a secret admirer\",\n",
    "#     \"The 'egyption hot models' facebook page is pathetic... simply photos of obese horny women.\",\n",
    "#     \"I HATE PAPERS AH #AH #HATE\",\n",
    "# ]\n",
    "\n",
    "# predictions = model.predict_classes(tweets)\n",
    "# print(predictions, '\\n')\n",
    "\n",
    "probabilities = model.predict_probabilities(tweets)\n",
    "# print(probabilities, '\\n')\n",
    "\n",
    "# embeddings = model.embedd(tweets)\n",
    "# print(embeddings, '\\n')\n",
    "stress = []\n",
    "angry = []\n",
    "happy = []\n",
    "satisfaction = []\n",
    "for i,r in probabilities.iterrows():\n",
    "    classes = {'Fear':r['Fear'],'Sadness':r['Sadness'],'Anticipation':r['Anticipation'],'Joy':r['Joy'],'Trust':r['Trust'],'Surprise':r['Surprise'],'Anger':r['Anger'],'Disgust':r['Disgust']}\n",
    "    classes_sort = dict(sorted(classes.items(), key=lambda kv: kv[1]))\n",
    "    rank = len(classes)\n",
    "    for key, val in classes_sort.items():\n",
    "        classes[key] = pow(rank * val,2)\n",
    "        rank = rank - 1\n",
    "    stress_val = classes['Fear']+classes['Sadness']+classes['Anticipation']-classes['Joy']-classes['Trust']-classes['Surprise']\n",
    "    satisfaction_val = -classes['Fear']-classes['Anger']-classes['Disgust']+classes['Anticipation']+classes['Joy']+classes['Trust']\n",
    "    happy_val = classes['Joy']+classes['Trust']+classes['Surprise']-classes['Sadness']-classes['Anger']-classes['Disgust']\n",
    "    angry_val = classes['Anger']+classes['Anticipation']+classes['Disgust']-classes['Joy']-classes['Fear']-classes['Sadness']\n",
    "    inpu = [stress_val,satisfaction_val,happy_val,angry_val]\n",
    "    old_min = min(inpu)\n",
    "    old_range = max(inpu) - old_min\n",
    "    new_min = 0.00001\n",
    "    new_range = 0.999999 - new_min\n",
    "    output = [float((n - old_min) / old_range * new_range + new_min) for n in inpu]\n",
    "    stress.append(output[0])\n",
    "    satisfaction.append(output[1])\n",
    "    happy.append(output[2])\n",
    "    angry.append(output[3])\n",
    "probabilities['Angry'] = angry \n",
    "probabilities['Happy'] = happy \n",
    "probabilities['Satisfaction'] = satisfaction \n",
    "probabilities['Stress'] = stress \n",
    "\n",
    "\n",
    "# predictions.to_csv(\"class.csv\")\n",
    "probabilities.to_csv(\"/Users/kavyasuresh/DS/Social-Stocking/Data set/jpmorgan_emo.csv\")\n",
    "#                      sep='\\t')\n"
   ]
  },
  {
   "cell_type": "code",
   "execution_count": null,
   "metadata": {},
   "outputs": [],
   "source": []
  }
 ],
 "metadata": {
  "kernelspec": {
   "display_name": "Python 3",
   "language": "python",
   "name": "python3"
  },
  "language_info": {
   "codemirror_mode": {
    "name": "ipython",
    "version": 3
   },
   "file_extension": ".py",
   "mimetype": "text/x-python",
   "name": "python",
   "nbconvert_exporter": "python",
   "pygments_lexer": "ipython3",
   "version": "3.7.0"
  }
 },
 "nbformat": 4,
 "nbformat_minor": 2
}
