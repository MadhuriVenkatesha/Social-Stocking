{
 "cells": [
  {
   "cell_type": "code",
   "execution_count": 31,
   "metadata": {},
   "outputs": [],
   "source": [
    "import pandas as pd\n",
    "import csv\n",
    "from emotion_predictor import EmotionPredictor"
   ]
  },
  {
   "cell_type": "code",
   "execution_count": 39,
   "metadata": {},
   "outputs": [
    {
     "name": "stdout",
     "output_type": "stream",
     "text": [
      "0     11/14/18\n",
      "1     11/13/18\n",
      "2     11/12/18\n",
      "3     11/11/18\n",
      "4     11/10/18\n",
      "5      11/9/18\n",
      "6      11/8/18\n",
      "7      11/7/18\n",
      "8      11/6/18\n",
      "9      11/5/18\n",
      "10     11/4/18\n",
      "Name: timestamp, dtype: object\n"
     ]
    }
   ],
   "source": [
    "df = pd.read_csv(\"daily_MSFT.csv\") \n",
    "\n",
    "print(df['timestamp'])"
   ]
  },
  {
   "cell_type": "markdown",
   "metadata": {},
   "source": [
    "\n",
    "inp = pd.read_csv(\"test.csv\")\n",
    "close = []    \n",
    "for i,row in inp.iterrows():\n",
    "    c = 0\n",
    "    dates = row[0].split(\" \")[0].split(\"-\")\n",
    "    date = dates[1]+\"/\"+dates[2]+\"/\"+dates[0][2:]\n",
    "    f = df.loc[df['timestamp'] == date]\n",
    "    close.append(f['close'])\n",
    "\n",
    "inp['close'] = close\n",
    "for i,row in inp.iterrows():\n",
    "    print(row)\n",
    "    c = c+1\n",
    "    if c == 2:\n",
    "        break\n",
    "\n",
    "\n",
    "To write into test_stock.csv"
   ]
  },
  {
   "cell_type": "code",
   "execution_count": null,
   "metadata": {},
   "outputs": [],
   "source": [
    "inp = pd.read_csv(\"test_stock.csv\")\n",
    "for i,row in inp.iterrows():\n",
    "    #getting only 100 rows each to write the neural nets module\n",
    "    "
   ]
  },
  {
   "cell_type": "code",
   "execution_count": null,
   "metadata": {},
   "outputs": [],
   "source": []
  }
 ],
 "metadata": {
  "kernelspec": {
   "display_name": "Python 3",
   "language": "python",
   "name": "python3"
  },
  "language_info": {
   "codemirror_mode": {
    "name": "ipython",
    "version": 3
   },
   "file_extension": ".py",
   "mimetype": "text/x-python",
   "name": "python",
   "nbconvert_exporter": "python",
   "pygments_lexer": "ipython3",
   "version": "3.7.0"
  }
 },
 "nbformat": 4,
 "nbformat_minor": 2
}
