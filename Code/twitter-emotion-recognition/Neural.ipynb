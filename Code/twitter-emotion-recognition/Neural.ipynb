{
 "cells": [
  {
   "cell_type": "code",
   "execution_count": 63,
   "metadata": {},
   "outputs": [],
   "source": [
    "import pandas as pd\n",
    "import csv\n",
    "from emotion_predictor import EmotionPredictor"
   ]
  },
  {
   "cell_type": "code",
   "execution_count": 64,
   "metadata": {},
   "outputs": [
    {
     "name": "stdout",
     "output_type": "stream",
     "text": [
      "109.57\n"
     ]
    }
   ],
   "source": [
    "df = pd.read_csv(\"daily_MSFT.csv\") \n",
    "\n",
    "\n",
    "    \n",
    "# print(df['timestamp'])\n",
    "f = df.loc[df['timestamp'] == '11/9/18']\n",
    "print(f['close'].values[0])"
   ]
  },
  {
   "cell_type": "code",
   "execution_count": 65,
   "metadata": {},
   "outputs": [
    {
     "name": "stdout",
     "output_type": "stream",
     "text": [
      "created_at                                  2018-11-14 05:08:33\n",
      "text          RT @Atmosera: Ten years since @Microsoft annou...\n",
      "close                                                    104.97\n",
      "date                                                   11/14/18\n",
      "Name: 0, dtype: object\n",
      "created_at                           2018-11-14 05:07:30\n",
      "text          @RBMercys @Microsoft @Xbox this your mans?\n",
      "close                                             104.97\n",
      "date                                            11/14/18\n",
      "Name: 1, dtype: object\n"
     ]
    }
   ],
   "source": [
    "inp = pd.read_csv(\"test.csv\")\n",
    "close = []    \n",
    "all_dates = []\n",
    "for i,row in inp.iterrows():\n",
    "    c = 0\n",
    "    dates = row[0].split(\" \")[0].split(\"-\")\n",
    "    if int(dates[2]) < 10:\n",
    "        dates[2]  = dates[2].strip(\"0\")\n",
    "    date = dates[1]+\"/\"+dates[2]+\"/\"+dates[0][2:]\n",
    "    all_dates.append(date)\n",
    "    f = df.loc[df['timestamp'] == date]\n",
    "    close.append(f['close'].values[0])\n",
    "inp['close'] = close\n",
    "inp['date'] = all_dates\n",
    "for i,row in inp.iterrows():\n",
    "    print(row)\n",
    "    c = c+1\n",
    "    if c == 2:\n",
    "        break\n",
    "inp.to_csv(\"test_stock.csv\")"
   ]
  },
  {
   "cell_type": "code",
   "execution_count": 66,
   "metadata": {},
   "outputs": [],
   "source": [
    "inp = pd.read_csv(\"test_stock.csv\", index_col=0)\n",
    "df = pd.read_csv(\"output_v1.csv\", index_col=0)\n",
    "df = df[1:]\n",
    "df = pd.concat([inp.reset_index(drop=True),df.reset_index(drop=True)], axis=1)\n",
    "df.to_csv(\"output_stock.csv\")"
   ]
  },
  {
   "cell_type": "code",
   "execution_count": null,
   "metadata": {},
   "outputs": [],
   "source": []
  }
 ],
 "metadata": {
  "kernelspec": {
   "display_name": "Python 3",
   "language": "python",
   "name": "python3"
  },
  "language_info": {
   "codemirror_mode": {
    "name": "ipython",
    "version": 3
   },
   "file_extension": ".py",
   "mimetype": "text/x-python",
   "name": "python",
   "nbconvert_exporter": "python",
   "pygments_lexer": "ipython3",
   "version": "3.7.0"
  }
 },
 "nbformat": 4,
 "nbformat_minor": 2
}
